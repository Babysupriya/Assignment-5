{
 "cells": [
  {
   "cell_type": "code",
   "execution_count": 7,
   "id": "52d6b773",
   "metadata": {},
   "outputs": [],
   "source": [
    "class pow:\n",
    "    def power(self,x,n):\n",
    "        if x==0 or x==1 or n==1:\n",
    "            return x\n",
    "        if x==-1:\n",
    "            if n%2 == 0:\n",
    "                return 1\n",
    "            else:\n",
    "                return -1\n",
    "        if n==0:\n",
    "            return 1\n",
    "        if n<0:\n",
    "            return 1/self.power(x,-n)\n",
    "        answer = self.power(x,n//2)\n",
    "        if n%2 == 0:\n",
    "            return answer*answer\n",
    "        return answer*answer*x\n",
    "      \n"
   ]
  },
  {
   "cell_type": "code",
   "execution_count": 8,
   "id": "2996f9c4",
   "metadata": {},
   "outputs": [],
   "source": [
    "obj=pow()"
   ]
  },
  {
   "cell_type": "code",
   "execution_count": 9,
   "id": "a934d5f3",
   "metadata": {},
   "outputs": [
    {
     "data": {
      "text/plain": [
       "100"
      ]
     },
     "execution_count": 9,
     "metadata": {},
     "output_type": "execute_result"
    }
   ],
   "source": [
    "obj.power(10,2)"
   ]
  },
  {
   "cell_type": "code",
   "execution_count": null,
   "id": "b4dedc6a",
   "metadata": {},
   "outputs": [],
   "source": []
  },
  {
   "cell_type": "code",
   "execution_count": null,
   "id": "74eeaa13",
   "metadata": {},
   "outputs": [],
   "source": []
  },
  {
   "cell_type": "code",
   "execution_count": null,
   "id": "2baa68da",
   "metadata": {},
   "outputs": [],
   "source": []
  }
 ],
 "metadata": {
  "kernelspec": {
   "display_name": "Python 3 (ipykernel)",
   "language": "python",
   "name": "python3"
  },
  "language_info": {
   "codemirror_mode": {
    "name": "ipython",
    "version": 3
   },
   "file_extension": ".py",
   "mimetype": "text/x-python",
   "name": "python",
   "nbconvert_exporter": "python",
   "pygments_lexer": "ipython3",
   "version": "3.9.7"
  }
 },
 "nbformat": 4,
 "nbformat_minor": 5
}
